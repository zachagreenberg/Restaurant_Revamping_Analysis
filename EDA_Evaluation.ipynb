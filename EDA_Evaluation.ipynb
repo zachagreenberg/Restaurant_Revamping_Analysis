{
 "cells": [
  {
   "cell_type": "markdown",
   "metadata": {},
   "source": [
    "# Opportunity in the NYC Restaurant Scene\n",
    "\n",
    "Authors: Donna Lee & Zachary Greenberg"
   ]
  },
  {
   "attachments": {
    "download.jpg": {
     "image/jpeg": "[encoded data removed]"
    }
   },
   "cell_type": "markdown",
   "metadata": {},
   "source": [
    "![download.jpg](attachment:download.jpg)"
   ]
  },
  {
   "cell_type": "markdown",
   "metadata": {},
   "source": [
    "# Overview \n",
    "\n",
    "This project uses Yelp data to analyze the Chinese and Italian restaurant scene in New York City to narrow down the location and cuisine type of a possible new restaurant. There's definitely no shortage of either type of restaurant in the city which indicates high demand. We utilized ratings, location, modality, and more in our analysis to sway our decision for the best possible option."
   ]
  },
  {
   "cell_type": "markdown",
   "metadata": {},
   "source": [
    "# Business Problem\n",
    "\n",
    "Tasked with opening a new restaurant in NYC, we narrowed down our choices between Chinese and Italian for the type of cuisine. Being that there is a surplus of both types of restaurants, we decided to look for ways to be innovative to offer something that is not your usual type of eatery."
   ]
  },
  {
   "cell_type": "markdown",
   "metadata": {},
   "source": [
    "# Data Collection\n",
    "\n",
    "With the help of the Yelp API, we extracted information on 489 Chinese restaurants and 546 Italian restaurants in New York City. We looked at the following information from each restaurant:\n",
    "\n",
    "* *Location*\n",
    "* *Price Range*\n",
    "* *Ratings*\n",
    "* *Sample of 3 Reviews per Restaurant*\n",
    "* *Delivery Options*\n"
   ]
  },
  {
   "cell_type": "markdown",
   "metadata": {},
   "source": [
    "# Data Preparation"
   ]
  },
  {
   "cell_type": "code",
   "execution_count": 1,
   "metadata": {},
   "outputs": [],
   "source": [
    "#import basic packages\n",
    "import pandas as pd \n",
    "import numpy as np\n",
    "import matplotlib.pyplot as plt\n",
    "import seaborn as sns\n",
    "%matplotlib inline"
   ]
  },
  {
   "cell_type": "code",
   "execution_count": 2,
   "metadata": {},
   "outputs": [
    {
     "data": {
      "text/html": [
       "<div>\n",
       "<style scoped>\n",
       "    .dataframe tbody tr th:only-of-type {\n",
       "        vertical-align: middle;\n",
       "    }\n",
       "\n",
       "    .dataframe tbody tr th {\n",
       "        vertical-align: top;\n",
       "    }\n",
       "\n",
       "    .dataframe thead th {\n",
       "        text-align: right;\n",
       "    }\n",
       "</style>\n",
       "<table border=\"1\" class=\"dataframe\">\n",
       "  <thead>\n",
       "    <tr style=\"text-align: right;\">\n",
       "      <th></th>\n",
       "      <th>Business Id</th>\n",
       "      <th>Business Name</th>\n",
       "      <th>Type</th>\n",
       "      <th>Latitude</th>\n",
       "      <th>Longitude</th>\n",
       "      <th>Ratings</th>\n",
       "      <th>Review_Counts</th>\n",
       "      <th>Price</th>\n",
       "      <th>Zipcode</th>\n",
       "      <th>Delivery</th>\n",
       "    </tr>\n",
       "  </thead>\n",
       "  <tbody>\n",
       "    <tr>\n",
       "      <th>0</th>\n",
       "      <td>dh5r9-SbN8xJ76XvnayWLQ</td>\n",
       "      <td>Giano Restaurant</td>\n",
       "      <td>Italian</td>\n",
       "      <td>40.726226</td>\n",
       "      <td>-73.984057</td>\n",
       "      <td>4.5</td>\n",
       "      <td>614</td>\n",
       "      <td>$$</td>\n",
       "      <td>10009</td>\n",
       "      <td>True</td>\n",
       "    </tr>\n",
       "    <tr>\n",
       "      <th>1</th>\n",
       "      <td>Vs8kQ4R381y27AH018gLpg</td>\n",
       "      <td>Supper</td>\n",
       "      <td>Italian</td>\n",
       "      <td>40.722900</td>\n",
       "      <td>-73.985270</td>\n",
       "      <td>4.0</td>\n",
       "      <td>1315</td>\n",
       "      <td>$$</td>\n",
       "      <td>10009</td>\n",
       "      <td>True</td>\n",
       "    </tr>\n",
       "  </tbody>\n",
       "</table>\n",
       "</div>"
      ],
      "text/plain": [
       "              Business Id     Business Name     Type   Latitude  Longitude  \\\n",
       "0  dh5r9-SbN8xJ76XvnayWLQ  Giano Restaurant  Italian  40.726226 -73.984057   \n",
       "1  Vs8kQ4R381y27AH018gLpg            Supper  Italian  40.722900 -73.985270   \n",
       "\n",
       "   Ratings  Review_Counts Price  Zipcode  Delivery  \n",
       "0      4.5            614    $$    10009      True  \n",
       "1      4.0           1315    $$    10009      True  "
      ]
     },
     "execution_count": 2,
     "metadata": {},
     "output_type": "execute_result"
    }
   ],
   "source": [
    "#reading in the dataframe\n",
    "restaurant = pd.read_csv('Data/Restaurant.csv')\n",
    "restaurant.head(2)"
   ]
  },
  {
   "cell_type": "code",
   "execution_count": 3,
   "metadata": {},
   "outputs": [
    {
     "data": {
      "text/plain": [
       "Business Id      0\n",
       "Business Name    0\n",
       "Type             0\n",
       "Latitude         0\n",
       "Longitude        0\n",
       "Ratings          0\n",
       "Review_Counts    0\n",
       "Price            0\n",
       "Zipcode          0\n",
       "Delivery         0\n",
       "dtype: int64"
      ]
     },
     "execution_count": 3,
     "metadata": {},
     "output_type": "execute_result"
    }
   ],
   "source": [
    "#checking for null values\n",
    "restaurant.isnull().sum()"
   ]
  },
  {
   "cell_type": "markdown",
   "metadata": {},
   "source": [
    "Fortunately, there are no null values in our collected dataset. This makes things easier as we proceed with our data exploration. "
   ]
  },
  {
   "cell_type": "code",
   "execution_count": 4,
   "metadata": {},
   "outputs": [
    {
     "name": "stdout",
     "output_type": "stream",
     "text": [
      "<class 'pandas.core.frame.DataFrame'>\n",
      "RangeIndex: 1035 entries, 0 to 1034\n",
      "Data columns (total 10 columns):\n",
      " #   Column         Non-Null Count  Dtype  \n",
      "---  ------         --------------  -----  \n",
      " 0   Business Id    1035 non-null   object \n",
      " 1   Business Name  1035 non-null   object \n",
      " 2   Type           1035 non-null   object \n",
      " 3   Latitude       1035 non-null   float64\n",
      " 4   Longitude      1035 non-null   float64\n",
      " 5   Ratings        1035 non-null   float64\n",
      " 6   Review_Counts  1035 non-null   int64  \n",
      " 7   Price          1035 non-null   object \n",
      " 8   Zipcode        1035 non-null   int64  \n",
      " 9   Delivery       1035 non-null   bool   \n",
      "dtypes: bool(1), float64(3), int64(2), object(4)\n",
      "memory usage: 73.9+ KB\n"
     ]
    }
   ],
   "source": [
    "restaurant.info()"
   ]
  },
  {
   "cell_type": "code",
   "execution_count": 5,
   "metadata": {},
   "outputs": [
    {
     "data": {
      "text/plain": [
       "$$      509\n",
       "$       352\n",
       "$$$     157\n",
       "$$$$     17\n",
       "Name: Price, dtype: int64"
      ]
     },
     "execution_count": 5,
     "metadata": {},
     "output_type": "execute_result"
    }
   ],
   "source": [
    "restaurant.Price.value_counts()"
   ]
  },
  {
   "cell_type": "markdown",
   "metadata": {},
   "source": [
    "After checking the dtypes, all of the variables of the correct type. This includes the Price variable, an object, because the prices are reflected in dollar signs signifying intensity. "
   ]
  },
  {
   "cell_type": "markdown",
   "metadata": {},
   "source": [
    "# Data Exploration"
   ]
  },
  {
   "cell_type": "code",
   "execution_count": 6,
   "metadata": {},
   "outputs": [
    {
     "data": {
      "text/html": [
       "<div>\n",
       "<style scoped>\n",
       "    .dataframe tbody tr th:only-of-type {\n",
       "        vertical-align: middle;\n",
       "    }\n",
       "\n",
       "    .dataframe tbody tr th {\n",
       "        vertical-align: top;\n",
       "    }\n",
       "\n",
       "    .dataframe thead th {\n",
       "        text-align: right;\n",
       "    }\n",
       "</style>\n",
       "<table border=\"1\" class=\"dataframe\">\n",
       "  <thead>\n",
       "    <tr style=\"text-align: right;\">\n",
       "      <th></th>\n",
       "      <th>Latitude</th>\n",
       "      <th>Longitude</th>\n",
       "      <th>Ratings</th>\n",
       "      <th>Review_Counts</th>\n",
       "      <th>Zipcode</th>\n",
       "    </tr>\n",
       "  </thead>\n",
       "  <tbody>\n",
       "    <tr>\n",
       "      <th>count</th>\n",
       "      <td>1035.000000</td>\n",
       "      <td>1035.000000</td>\n",
       "      <td>1035.000000</td>\n",
       "      <td>1035.000000</td>\n",
       "      <td>1035.000000</td>\n",
       "    </tr>\n",
       "    <tr>\n",
       "      <th>mean</th>\n",
       "      <td>40.721224</td>\n",
       "      <td>-73.987800</td>\n",
       "      <td>3.819324</td>\n",
       "      <td>278.343961</td>\n",
       "      <td>10461.581643</td>\n",
       "    </tr>\n",
       "    <tr>\n",
       "      <th>std</th>\n",
       "      <td>0.330702</td>\n",
       "      <td>0.741952</td>\n",
       "      <td>0.463580</td>\n",
       "      <td>408.902392</td>\n",
       "      <td>2311.299785</td>\n",
       "    </tr>\n",
       "    <tr>\n",
       "      <th>min</th>\n",
       "      <td>30.253537</td>\n",
       "      <td>-97.763551</td>\n",
       "      <td>2.000000</td>\n",
       "      <td>2.000000</td>\n",
       "      <td>7002.000000</td>\n",
       "    </tr>\n",
       "    <tr>\n",
       "      <th>25%</th>\n",
       "      <td>40.700332</td>\n",
       "      <td>-73.995584</td>\n",
       "      <td>3.500000</td>\n",
       "      <td>51.000000</td>\n",
       "      <td>10013.000000</td>\n",
       "    </tr>\n",
       "    <tr>\n",
       "      <th>50%</th>\n",
       "      <td>40.732097</td>\n",
       "      <td>-73.976613</td>\n",
       "      <td>4.000000</td>\n",
       "      <td>152.000000</td>\n",
       "      <td>10037.000000</td>\n",
       "    </tr>\n",
       "    <tr>\n",
       "      <th>75%</th>\n",
       "      <td>40.763032</td>\n",
       "      <td>-73.942876</td>\n",
       "      <td>4.000000</td>\n",
       "      <td>334.000000</td>\n",
       "      <td>11215.000000</td>\n",
       "    </tr>\n",
       "    <tr>\n",
       "      <th>max</th>\n",
       "      <td>40.980500</td>\n",
       "      <td>-73.651640</td>\n",
       "      <td>5.000000</td>\n",
       "      <td>5652.000000</td>\n",
       "      <td>78704.000000</td>\n",
       "    </tr>\n",
       "  </tbody>\n",
       "</table>\n",
       "</div>"
      ],
      "text/plain": [
       "          Latitude    Longitude      Ratings  Review_Counts       Zipcode\n",
       "count  1035.000000  1035.000000  1035.000000    1035.000000   1035.000000\n",
       "mean     40.721224   -73.987800     3.819324     278.343961  10461.581643\n",
       "std       0.330702     0.741952     0.463580     408.902392   2311.299785\n",
       "min      30.253537   -97.763551     2.000000       2.000000   7002.000000\n",
       "25%      40.700332   -73.995584     3.500000      51.000000  10013.000000\n",
       "50%      40.732097   -73.976613     4.000000     152.000000  10037.000000\n",
       "75%      40.763032   -73.942876     4.000000     334.000000  11215.000000\n",
       "max      40.980500   -73.651640     5.000000    5652.000000  78704.000000"
      ]
     },
     "execution_count": 6,
     "metadata": {},
     "output_type": "execute_result"
    }
   ],
   "source": [
    "#checking the descriptive stats of the numerical variables\n",
    "restaurant.describe()"
   ]
  },
  {
   "cell_type": "markdown",
   "metadata": {},
   "source": [
    "Being that the ratings are on a 1-5 scale, the average ratings for these 1035 restaurants is quite high at a 3.8. It is also worth noting that the range of the number of review_counts is quite large, spanning from 2 to 5652."
   ]
  },
  {
   "cell_type": "markdown",
   "metadata": {},
   "source": [
    "Based on our investigation of the average rating, above, we decided to go a step further and see the influence of each Type of restaurant on the mean"
   ]
  },
  {
   "cell_type": "code",
   "execution_count": 7,
   "metadata": {},
   "outputs": [
    {
     "data": {
      "text/plain": [
       "Type\n",
       "Chinese    3.659509\n",
       "Italian    3.962454\n",
       "Name: Ratings, dtype: float64"
      ]
     },
     "execution_count": 7,
     "metadata": {},
     "output_type": "execute_result"
    }
   ],
   "source": [
    "restaurant.groupby(\"Type\")['Ratings'].mean()"
   ]
  },
  {
   "cell_type": "markdown",
   "metadata": {},
   "source": [
    "Italian restaurants seem to have a slightly higher rating than Chinese restaurants in our dataset."
   ]
  },
  {
   "cell_type": "code",
   "execution_count": 8,
   "metadata": {},
   "outputs": [
    {
     "data": {
      "text/plain": [
       "$$      68.681319\n",
       "$$$     26.739927\n",
       "$$$$     2.747253\n",
       "$        1.831502\n",
       "Name: Price, dtype: float64"
      ]
     },
     "execution_count": 8,
     "metadata": {},
     "output_type": "execute_result"
    }
   ],
   "source": [
    "#This is the distribution of Italian restaurants by Price\n",
    "restaurant[restaurant['Type'] == 'Italian']['Price'].value_counts(normalize=True)*100"
   ]
  },
  {
   "cell_type": "code",
   "execution_count": 9,
   "metadata": {},
   "outputs": [
    {
     "data": {
      "text/plain": [
       "$       69.938650\n",
       "$$      27.402863\n",
       "$$$      2.249489\n",
       "$$$$     0.408998\n",
       "Name: Price, dtype: float64"
      ]
     },
     "execution_count": 9,
     "metadata": {},
     "output_type": "execute_result"
    }
   ],
   "source": [
    "#This is the distribution of Chinese restaurants by Price\n",
    "restaurant[restaurant['Type'] == 'Chinese']['Price'].value_counts(normalize=True)*100"
   ]
  },
  {
   "cell_type": "markdown",
   "metadata": {},
   "source": [
    "Comparing the two price points between Chinese and Italian restaurants above, we discovered there is a lack of higher end Chinese restaurants signifying a market opportunity."
   ]
  },
  {
   "cell_type": "markdown",
   "metadata": {},
   "source": [
    "Now especially, during Covid times, we understand that delivery services are being used more frequently. Knowing full well that Chinese restaurants have great potential we wanted to look into the delivery factor and whether or not it should play a part it our decision."
   ]
  },
  {
   "cell_type": "code",
   "execution_count": 10,
   "metadata": {},
   "outputs": [
    {
     "data": {
      "text/plain": [
       "Ratings\n",
       "2.0    1.000000\n",
       "2.5    0.941176\n",
       "3.0    0.960526\n",
       "3.5    0.932584\n",
       "4.0    0.870588\n",
       "4.5    0.761905\n",
       "5.0    0.200000\n",
       "Name: Delivery, dtype: float64"
      ]
     },
     "execution_count": 10,
     "metadata": {},
     "output_type": "execute_result"
    }
   ],
   "source": [
    "restaurant[restaurant['Type']=='Chinese'].groupby('Ratings')['Delivery'].mean()"
   ]
  },
  {
   "cell_type": "code",
   "execution_count": 11,
   "metadata": {},
   "outputs": [
    {
     "data": {
      "image/png": "[encoded data removed]",
      "text/plain": [
       "<Figure size 432x288 with 1 Axes>"
      ]
     },
     "metadata": {
      "needs_background": "light"
     },
     "output_type": "display_data"
    }
   ],
   "source": [
    "#Bar Garph of Average Ratings\n",
    "avg_ratings = list(restaurant.groupby(\"Type\")['Ratings'].mean().values)\n",
    "\n",
    "rounded_ratings = [round(rating, 2) for rating in avg_ratings]\n",
    "\n",
    "fig,ax = plt.subplots()\n",
    "ax = sns.barplot(x=list(restaurant.groupby(\"Type\")['Ratings'].mean().index), \n",
    "                 y=rounded_ratings, data = restaurant.groupby(\"Type\")['Ratings'].mean())\n",
    "ax.set_xticklabels(['Chinese', 'Italian'])\n",
    "ax.set_ylabel('Avg Rating')\n",
    "ax.set_title('Avg Ratings by Restaurant Type')\n",
    "plt.savefig('Images/avg_rating_by_type.png')"
   ]
  },
  {
   "cell_type": "markdown",
   "metadata": {},
   "source": [
    "This bar graph of ratings by restaurant type shows that Chinese restaurants are often lower in rating"
   ]
  },
  {
   "cell_type": "code",
   "execution_count": 12,
   "metadata": {},
   "outputs": [
    {
     "data": {
      "image/png": "[encoded data removed]",
      "text/plain": [
       "<Figure size 432x288 with 1 Axes>"
      ]
     },
     "metadata": {
      "needs_background": "light"
     },
     "output_type": "display_data"
    }
   ],
   "source": [
    "#RESTAURANT BY PRICE BAR GRAPH\n",
    "\n",
    "by_price = restaurant.groupby(['Price', 'Type'])['Business Id'].count().unstack()\n",
    "\n",
    "labels = [\"$\",\"\\$\\$\",'\\$\\$\\$','\\$\\$\\$\\$']\n",
    "\n",
    "x = np.arange(len(labels))\n",
    "width=.35 \n",
    "\n",
    "fig, ax = plt.subplots()\n",
    "chinese = ax.bar(x - width/2, by_price['Chinese'].values, width, label = 'Chinese')\n",
    "italian = ax.bar(x + width/2, by_price['Italian'].values, width, label = 'Italian', color = 'orange')\n",
    "ax.set_ylabel('Number of Restaurants')\n",
    "ax.set_title('Restaurants by Price')\n",
    "ax.set_xticks(list(range(4)))\n",
    "ax.set_xticklabels(labels)\n",
    "ax.legend()\n",
    "plt.savefig('Images/restaurants_by_price.png')"
   ]
  },
  {
   "cell_type": "markdown",
   "metadata": {},
   "source": [
    "The bar graph below shows the distribution of price points for Chinese and Italian restaurants. We noticed a lack of high end Chinese restaurants."
   ]
  },
  {
   "cell_type": "code",
   "execution_count": 13,
   "metadata": {},
   "outputs": [
    {
     "data": {
      "image/png": "[encoded data removed]",
      "text/plain": [
       "<Figure size 432x288 with 1 Axes>"
      ]
     },
     "metadata": {
      "needs_background": "light"
     },
     "output_type": "display_data"
    }
   ],
   "source": [
    "#DELIVERY BOX PLOTS\n",
    "\n",
    "#splitting the data into separate categories for easy manipulation\n",
    "chinese_restaurants = restaurant[restaurant['Type'] == 'Chinese']\n",
    "\n",
    "fig, ax = plt.subplots()\n",
    "ax.boxplot([chinese_restaurants[chinese_restaurants['Delivery']==True]['Ratings'], chinese_restaurants[chinese_restaurants['Delivery']==False]['Ratings']])\n",
    "ax.set_xticklabels(['Delivery', 'No Delivery'])\n",
    "ax.set_ylabel('Rating')\n",
    "ax.set_title('Chinese Restaurants Delivery Type')\n",
    "plt.savefig('Images/chinese_delivery_and_rating.png')"
   ]
  },
  {
   "cell_type": "markdown",
   "metadata": {},
   "source": [
    "These boxplots demonstrate that delivery services don't necessarily mean higher ratings."
   ]
  },
  {
   "cell_type": "markdown",
   "metadata": {},
   "source": [
    "This map shows the location distribution of our sample for Chinese restaurants. From here we were able to determine prime locations based on lack of surrounding competition."
   ]
  },
  {
   "cell_type": "code",
   "execution_count": 14,
   "metadata": {},
   "outputs": [],
   "source": [
    "import folium\n",
    "\n",
    "restaurant_list =  [list(x) for x in zip(chinese_restaurants['Latitude'].values,\n",
    "                                         chinese_restaurants['Longitude'].values,\n",
    "                                         chinese_restaurants['Business Name'].values,\n",
    "                                         chinese_restaurants['Type'].values)] \n",
    "\n",
    "nyc_map = folium.Map(location=[40.7589, -73.9851], zoom_start = 14)\n",
    "\n",
    "def markers(iterables, nyc_map):\n",
    "    \"\"\"\n",
    "    This function creates markers with popup labels and adds them to the map\n",
    "    of NYC for a visual reference of restaurant locations\n",
    "    \"\"\"\n",
    "    markers = list(map(lambda iterable: folium.Marker(location = iterable[:2],\n",
    "                                                      popup = f'{iterable[2]}: {iterable[3]}'), iterables))\n",
    "    for marker in markers:\n",
    "        marker.add_to(nyc_map)\n",
    "    \n",
    "    return nyc_map\n",
    "\n",
    "Chinese_Restaurant_Map = markers(restaurant_list, nyc_map)\n",
    "Chinese_Restaurant_Map.save('Images/Chinese_Restaurant_Map.html')"
   ]
  },
  {
   "cell_type": "markdown",
   "metadata": {},
   "source": [
    "## Conclusions\n",
    "\n",
    "After analyzing the Yelp data, we decided it would be best to open a high end Chinese restaurant in the Upper West Side.\n",
    "\n",
    "* **There is a huge open opportunity for high-end Chinese restaurants in New York City.** Of our sample size, only 0.41% of Chinese restaurants had 4 dollar signs, signifying a majority of lower price point Chinese restaurants.\n",
    "\n",
    "* **To maintain the exclusivity and experience of the restaurant, there will be no delivery option.** The difference in average rating for restaurants that had a delivery option versus no delivery option was insignificant. We decided that it would be wiser to not offer a delivery option because it provided no extra value in terms of better ratings and would allow the restaurant to cut costs.\n",
    "\n",
    "* **The Upper West Side has a lower density of Chinese restaurants.** This area would be great for our new restaurant due to the lack of surrounding competition."
   ]
  }
 ],
 "metadata": {
  "kernelspec": {
   "display_name": "Python 3",
   "language": "python",
   "name": "python3"
  },
  "language_info": {
   "codemirror_mode": {
    "name": "ipython",
    "version": 3
   },
   "file_extension": ".py",
   "mimetype": "text/x-python",
   "name": "python",
   "nbconvert_exporter": "python",
   "pygments_lexer": "ipython3",
   "version": "3.8.5"
  },
  "toc": {
   "base_numbering": 1,
   "nav_menu": {},
   "number_sections": true,
   "sideBar": true,
   "skip_h1_title": false,
   "title_cell": "Table of Contents",
   "title_sidebar": "Contents",
   "toc_cell": false,
   "toc_position": {},
   "toc_section_display": true,
   "toc_window_display": false
  },
  "varInspector": {
   "cols": {
    "lenName": 16,
    "lenType": 16,
    "lenVar": 40
   },
   "kernels_config": {
    "python": {
     "delete_cmd_postfix": "",
     "delete_cmd_prefix": "del ",
     "library": "var_list.py",
     "varRefreshCmd": "print(var_dic_list())"
    },
    "r": {
     "delete_cmd_postfix": ") ",
     "delete_cmd_prefix": "rm(",
     "library": "var_list.r",
     "varRefreshCmd": "cat(var_dic_list()) "
    }
   },
   "types_to_exclude": [
    "module",
    "function",
    "builtin_function_or_method",
    "instance",
    "_Feature"
   ],
   "window_display": false
  }
 },
 "nbformat": 4,
 "nbformat_minor": 4
}
