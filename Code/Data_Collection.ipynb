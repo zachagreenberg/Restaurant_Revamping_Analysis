{
 "cells": [
  {
   "cell_type": "markdown",
   "metadata": {},
   "source": [
    "# Data Collection"
   ]
  },
  {
   "cell_type": "code",
   "execution_count": 1,
   "metadata": {},
   "outputs": [],
   "source": [
    "#helper.py includes pandas, json, requests, and ALL the helper functions\n",
    "from helper import *"
   ]
  },
  {
   "cell_type": "markdown",
   "metadata": {},
   "source": [
    "#### API Information"
   ]
  },
  {
   "cell_type": "code",
   "execution_count": 2,
   "metadata": {},
   "outputs": [],
   "source": [
    "from api_key import api_key as key"
   ]
  },
  {
   "cell_type": "code",
   "execution_count": 3,
   "metadata": {},
   "outputs": [],
   "source": [
    "headers = {'Authorization': 'Bearer {}'.format(key)}"
   ]
  },
  {
   "cell_type": "markdown",
   "metadata": {},
   "source": [
    "#### Identify term, url, and parameters"
   ]
  },
  {
   "cell_type": "code",
   "execution_count": 4,
   "metadata": {},
   "outputs": [],
   "source": [
    "url = 'https://api.yelp.com/v3/businesses/search'   \n",
    "\n",
    "term = 'Italian'\n",
    "\n",
    "url_params = {\"term\": term, \"location\": 'New York City',\n",
    "              \"categories\" : 'restaurants',\"limit\": 50}"
   ]
  },
  {
   "cell_type": "markdown",
   "metadata": {},
   "source": [
    "#### Importing our helper functions in a while loop for continuous collection"
   ]
  },
  {
   "cell_type": "code",
   "execution_count": 5,
   "metadata": {},
   "outputs": [],
   "source": [
    "#This is the counter\n",
    "cur = 0\n",
    "\n",
    "\n",
    "while cur <= 800:\n",
    "\n",
    "    #We are changing the parameters each time to get a new\n",
    "    #set of results\n",
    "    url_params['offset'] = cur\n",
    "\n",
    "    #We are calling the yelp function we created\n",
    "    results = yelp_business_call(url, headers, url_params)\n",
    "\n",
    "    #We are going through and extracting the desired data pieces.\n",
    "    parsed_results = parse_business_data(results, term)\n",
    "\n",
    "    #We are creating and saving a DataFrame of the data.\n",
    "    df_business_save(parsed_results)\n",
    "    #We are increasing the counter to get the next set of results\n",
    "    cur += 50    "
   ]
  },
  {
   "cell_type": "markdown",
   "metadata": {},
   "source": [
    "#### Changing the search term and running the loop again "
   ]
  },
  {
   "cell_type": "code",
   "execution_count": 6,
   "metadata": {},
   "outputs": [],
   "source": [
    "url = 'https://api.yelp.com/v3/businesses/search'   \n",
    "\n",
    "term = 'Chinese'\n",
    "\n",
    "url_params = {\"term\": term, \"location\": 'New York City',\n",
    "              \"categories\" : 'restaurants',\"limit\": 50}"
   ]
  },
  {
   "cell_type": "code",
   "execution_count": 7,
   "metadata": {},
   "outputs": [],
   "source": [
    "#This is the counter\n",
    "cur = 0\n",
    "\n",
    "\n",
    "while cur <= 800:\n",
    " \n",
    "    #We are changing the parameters each time to get a new\n",
    "    #set of results\n",
    "    url_params['offset'] = cur\n",
    "    \n",
    "    #We are calling the yelp function we created\n",
    "    results = yelp_business_call(url, headers, url_params)\n",
    "    \n",
    "    #We are going through and extracting the desired data pieces.\n",
    "    parsed_results = parse_business_data(results, term)\n",
    "    \n",
    "    #We are creating and saving a DataFrame of the data.\n",
    "    df_business_save(parsed_results)\n",
    "   \n",
    "    #We are increasing the counter to get the next set of results\n",
    "    cur += 50 "
   ]
  },
  {
   "cell_type": "markdown",
   "metadata": {},
   "source": [
    "#### Viewing the DataFrame to get the Business Ids"
   ]
  },
  {
   "cell_type": "code",
   "execution_count": 8,
   "metadata": {},
   "outputs": [
    {
     "data": {
      "text/html": [
       "<div>\n",
       "<style scoped>\n",
       "    .dataframe tbody tr th:only-of-type {\n",
       "        vertical-align: middle;\n",
       "    }\n",
       "\n",
       "    .dataframe tbody tr th {\n",
       "        vertical-align: top;\n",
       "    }\n",
       "\n",
       "    .dataframe thead th {\n",
       "        text-align: right;\n",
       "    }\n",
       "</style>\n",
       "<table border=\"1\" class=\"dataframe\">\n",
       "  <thead>\n",
       "    <tr style=\"text-align: right;\">\n",
       "      <th></th>\n",
       "      <th>Business Id</th>\n",
       "      <th>Business Name</th>\n",
       "      <th>Type</th>\n",
       "      <th>Latitude</th>\n",
       "      <th>Longitude</th>\n",
       "      <th>Ratings</th>\n",
       "      <th>Review_Counts</th>\n",
       "      <th>Price</th>\n",
       "      <th>Zipcode</th>\n",
       "      <th>Delivery</th>\n",
       "    </tr>\n",
       "  </thead>\n",
       "  <tbody>\n",
       "    <tr>\n",
       "      <th>0</th>\n",
       "      <td>dh5r9-SbN8xJ76XvnayWLQ</td>\n",
       "      <td>Giano Restaurant</td>\n",
       "      <td>Italian</td>\n",
       "      <td>40.726226</td>\n",
       "      <td>-73.984057</td>\n",
       "      <td>4.5</td>\n",
       "      <td>614</td>\n",
       "      <td>$$</td>\n",
       "      <td>10009</td>\n",
       "      <td>True</td>\n",
       "    </tr>\n",
       "    <tr>\n",
       "      <th>1</th>\n",
       "      <td>Vs8kQ4R381y27AH018gLpg</td>\n",
       "      <td>Supper</td>\n",
       "      <td>Italian</td>\n",
       "      <td>40.722900</td>\n",
       "      <td>-73.985270</td>\n",
       "      <td>4.0</td>\n",
       "      <td>1315</td>\n",
       "      <td>$$</td>\n",
       "      <td>10009</td>\n",
       "      <td>True</td>\n",
       "    </tr>\n",
       "  </tbody>\n",
       "</table>\n",
       "</div>"
      ],
      "text/plain": [
       "              Business Id     Business Name     Type   Latitude  Longitude  \\\n",
       "0  dh5r9-SbN8xJ76XvnayWLQ  Giano Restaurant  Italian  40.726226 -73.984057   \n",
       "1  Vs8kQ4R381y27AH018gLpg            Supper  Italian  40.722900 -73.985270   \n",
       "\n",
       "   Ratings  Review_Counts Price  Zipcode  Delivery  \n",
       "0      4.5            614    $$    10009      True  \n",
       "1      4.0           1315    $$    10009      True  "
      ]
     },
     "execution_count": 8,
     "metadata": {},
     "output_type": "execute_result"
    }
   ],
   "source": [
    "#We are viewing the DataFrame to access the Business Ids column\n",
    "#so that we are able to obtain the reviews\n",
    "businesses = pd.read_csv('../Data/Restaurant.csv')\n",
    "businesses.head(2)"
   ]
  },
  {
   "cell_type": "code",
   "execution_count": 9,
   "metadata": {},
   "outputs": [],
   "source": [
    "#We are putting the Business Ids into a list\n",
    "business_ids = list(businesses['Business Id'])"
   ]
  },
  {
   "cell_type": "code",
   "execution_count": 10,
   "metadata": {},
   "outputs": [],
   "source": [
    "#We are looping through all of the business ids\n",
    "for i,n in enumerate(business_ids):\n",
    "    \n",
    "    #We are adding the business ids inside the url to get the reviews\n",
    "    url = 'https://api.yelp.com/v3/businesses/{}/reviews'.format(n)\n",
    "    \n",
    "    #We are calling the yelp review function we created\n",
    "    results = yelp_review_call(url, headers)\n",
    "    \n",
    "    #We are sorting through and getting the desired data\n",
    "    parsed_results = parse_review_data(results, url)\n",
    "    \n",
    "    #We are creating and saving a DataFrame of reviews\n",
    "    df_review_save(parsed_results, i)"
   ]
  }
 ],
 "metadata": {
  "kernelspec": {
   "display_name": "learn-env",
   "language": "python",
   "name": "learn-env"
  },
  "language_info": {
   "codemirror_mode": {
    "name": "ipython",
    "version": 3
   },
   "file_extension": ".py",
   "mimetype": "text/x-python",
   "name": "python",
   "nbconvert_exporter": "python",
   "pygments_lexer": "ipython3",
   "version": "3.8.5"
  },
  "toc": {
   "base_numbering": 1,
   "nav_menu": {},
   "number_sections": true,
   "sideBar": true,
   "skip_h1_title": false,
   "title_cell": "Table of Contents",
   "title_sidebar": "Contents",
   "toc_cell": false,
   "toc_position": {},
   "toc_section_display": true,
   "toc_window_display": false
  },
  "varInspector": {
   "cols": {
    "lenName": 16,
    "lenType": 16,
    "lenVar": 40
   },
   "kernels_config": {
    "python": {
     "delete_cmd_postfix": "",
     "delete_cmd_prefix": "del ",
     "library": "var_list.py",
     "varRefreshCmd": "print(var_dic_list())"
    },
    "r": {
     "delete_cmd_postfix": ") ",
     "delete_cmd_prefix": "rm(",
     "library": "var_list.r",
     "varRefreshCmd": "cat(var_dic_list()) "
    }
   },
   "types_to_exclude": [
    "module",
    "function",
    "builtin_function_or_method",
    "instance",
    "_Feature"
   ],
   "window_display": false
  }
 },
 "nbformat": 4,
 "nbformat_minor": 4
}
